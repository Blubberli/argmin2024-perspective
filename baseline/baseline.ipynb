{
 "cells": [
  {
   "cell_type": "markdown",
   "id": "b5c3e7bd-f182-421a-8e76-b8e009ec5158",
   "metadata": {},
   "source": [
    "## Install further packages"
   ]
  },
  {
   "cell_type": "code",
   "execution_count": 6,
   "id": "cb669fe2-363d-412a-a1ff-27bb8d70401e",
   "metadata": {
    "scrolled": true
   },
   "outputs": [
    {
     "name": "stdout",
     "output_type": "stream",
     "text": [
      "Requirement already satisfied: tqdm==4.66.2 in /usr/local/lib/python3.10/dist-packages (from -r requirements.txt (line 1)) (4.66.2)\n",
      "Requirement already satisfied: scipy==1.12.0 in /usr/local/lib/python3.10/dist-packages (from -r requirements.txt (line 2)) (1.12.0)\n",
      "Requirement already satisfied: pandas==2.2.1 in /usr/local/lib/python3.10/dist-packages (from -r requirements.txt (line 3)) (2.2.1)\n",
      "Requirement already satisfied: numpy==1.26.4 in /usr/local/lib/python3.10/dist-packages (from -r requirements.txt (line 4)) (1.26.4)\n",
      "Requirement already satisfied: tabulate==0.9.0 in /usr/local/lib/python3.10/dist-packages (from -r requirements.txt (line 5)) (0.9.0)\n",
      "Requirement already satisfied: scikit-learn==1.4.1.post1 in /usr/local/lib/python3.10/dist-packages (from -r requirements.txt (line 6)) (1.4.1.post1)\n",
      "Requirement already satisfied: python-dateutil>=2.8.2 in /usr/local/lib/python3.10/dist-packages (from pandas==2.2.1->-r requirements.txt (line 3)) (2.8.2)\n",
      "Requirement already satisfied: tzdata>=2022.7 in /usr/local/lib/python3.10/dist-packages (from pandas==2.2.1->-r requirements.txt (line 3)) (2024.1)\n",
      "Requirement already satisfied: pytz>=2020.1 in /usr/local/lib/python3.10/dist-packages (from pandas==2.2.1->-r requirements.txt (line 3)) (2024.1)\n",
      "Requirement already satisfied: threadpoolctl>=2.0.0 in /usr/local/lib/python3.10/dist-packages (from scikit-learn==1.4.1.post1->-r requirements.txt (line 6)) (3.3.0)\n",
      "Requirement already satisfied: joblib>=1.2.0 in /usr/local/lib/python3.10/dist-packages (from scikit-learn==1.4.1.post1->-r requirements.txt (line 6)) (1.3.2)\n",
      "Requirement already satisfied: six>=1.5 in /usr/lib/python3/dist-packages (from python-dateutil>=2.8.2->pandas==2.2.1->-r requirements.txt (line 3)) (1.16.0)\n",
      "\u001b[33mWARNING: Running pip as the 'root' user can result in broken permissions and conflicting behaviour with the system package manager. It is recommended to use a virtual environment instead: https://pip.pypa.io/warnings/venv\u001b[0m\u001b[33m\n",
      "\u001b[0mRequirement already satisfied: sentence-transformers in /usr/local/lib/python3.10/dist-packages (2.5.1)\n",
      "Requirement already satisfied: transformers<5.0.0,>=4.32.0 in /usr/local/lib/python3.10/dist-packages (from sentence-transformers) (4.38.2)\n",
      "Requirement already satisfied: torch>=1.11.0 in /usr/local/lib/python3.10/dist-packages (from sentence-transformers) (2.2.1)\n",
      "Requirement already satisfied: Pillow in /usr/local/lib/python3.10/dist-packages (from sentence-transformers) (10.2.0)\n",
      "Requirement already satisfied: tqdm in /usr/local/lib/python3.10/dist-packages (from sentence-transformers) (4.66.2)\n",
      "Requirement already satisfied: scipy in /usr/local/lib/python3.10/dist-packages (from sentence-transformers) (1.12.0)\n",
      "Requirement already satisfied: scikit-learn in /usr/local/lib/python3.10/dist-packages (from sentence-transformers) (1.4.1.post1)\n",
      "Requirement already satisfied: huggingface-hub>=0.15.1 in /usr/local/lib/python3.10/dist-packages (from sentence-transformers) (0.21.3)\n",
      "Requirement already satisfied: numpy in /usr/local/lib/python3.10/dist-packages (from sentence-transformers) (1.26.4)\n",
      "Requirement already satisfied: fsspec>=2023.5.0 in /usr/local/lib/python3.10/dist-packages (from huggingface-hub>=0.15.1->sentence-transformers) (2024.2.0)\n",
      "Requirement already satisfied: packaging>=20.9 in /usr/local/lib/python3.10/dist-packages (from huggingface-hub>=0.15.1->sentence-transformers) (23.2)\n",
      "Requirement already satisfied: pyyaml>=5.1 in /usr/local/lib/python3.10/dist-packages (from huggingface-hub>=0.15.1->sentence-transformers) (6.0.1)\n",
      "Requirement already satisfied: typing-extensions>=3.7.4.3 in /usr/local/lib/python3.10/dist-packages (from huggingface-hub>=0.15.1->sentence-transformers) (4.8.0)\n",
      "Requirement already satisfied: filelock in /usr/local/lib/python3.10/dist-packages (from huggingface-hub>=0.15.1->sentence-transformers) (3.13.1)\n",
      "Requirement already satisfied: requests in /usr/local/lib/python3.10/dist-packages (from huggingface-hub>=0.15.1->sentence-transformers) (2.31.0)\n",
      "Requirement already satisfied: nvidia-cuda-cupti-cu12==12.1.105 in /usr/local/lib/python3.10/dist-packages (from torch>=1.11.0->sentence-transformers) (12.1.105)\n",
      "Requirement already satisfied: nvidia-cuda-runtime-cu12==12.1.105 in /usr/local/lib/python3.10/dist-packages (from torch>=1.11.0->sentence-transformers) (12.1.105)\n",
      "Requirement already satisfied: nvidia-cudnn-cu12==8.9.2.26 in /usr/local/lib/python3.10/dist-packages (from torch>=1.11.0->sentence-transformers) (8.9.2.26)\n",
      "Requirement already satisfied: nvidia-cublas-cu12==12.1.3.1 in /usr/local/lib/python3.10/dist-packages (from torch>=1.11.0->sentence-transformers) (12.1.3.1)\n",
      "Requirement already satisfied: nvidia-cufft-cu12==11.0.2.54 in /usr/local/lib/python3.10/dist-packages (from torch>=1.11.0->sentence-transformers) (11.0.2.54)\n",
      "Requirement already satisfied: triton==2.2.0 in /usr/local/lib/python3.10/dist-packages (from torch>=1.11.0->sentence-transformers) (2.2.0)\n",
      "Requirement already satisfied: sympy in /usr/local/lib/python3.10/dist-packages (from torch>=1.11.0->sentence-transformers) (1.12)\n",
      "Requirement already satisfied: nvidia-nccl-cu12==2.19.3 in /usr/local/lib/python3.10/dist-packages (from torch>=1.11.0->sentence-transformers) (2.19.3)\n",
      "Requirement already satisfied: networkx in /usr/local/lib/python3.10/dist-packages (from torch>=1.11.0->sentence-transformers) (3.2.1)\n",
      "Requirement already satisfied: nvidia-cuda-nvrtc-cu12==12.1.105 in /usr/local/lib/python3.10/dist-packages (from torch>=1.11.0->sentence-transformers) (12.1.105)\n",
      "Requirement already satisfied: nvidia-cusparse-cu12==12.1.0.106 in /usr/local/lib/python3.10/dist-packages (from torch>=1.11.0->sentence-transformers) (12.1.0.106)\n",
      "Requirement already satisfied: nvidia-nvtx-cu12==12.1.105 in /usr/local/lib/python3.10/dist-packages (from torch>=1.11.0->sentence-transformers) (12.1.105)\n",
      "Requirement already satisfied: jinja2 in /usr/local/lib/python3.10/dist-packages (from torch>=1.11.0->sentence-transformers) (3.1.2)\n",
      "Requirement already satisfied: nvidia-curand-cu12==10.3.2.106 in /usr/local/lib/python3.10/dist-packages (from torch>=1.11.0->sentence-transformers) (10.3.2.106)\n",
      "Requirement already satisfied: nvidia-cusolver-cu12==11.4.5.107 in /usr/local/lib/python3.10/dist-packages (from torch>=1.11.0->sentence-transformers) (11.4.5.107)\n",
      "Requirement already satisfied: nvidia-nvjitlink-cu12 in /usr/local/lib/python3.10/dist-packages (from nvidia-cusolver-cu12==11.4.5.107->torch>=1.11.0->sentence-transformers) (12.3.101)\n",
      "Requirement already satisfied: regex!=2019.12.17 in /usr/local/lib/python3.10/dist-packages (from transformers<5.0.0,>=4.32.0->sentence-transformers) (2023.12.25)\n",
      "Requirement already satisfied: tokenizers<0.19,>=0.14 in /usr/local/lib/python3.10/dist-packages (from transformers<5.0.0,>=4.32.0->sentence-transformers) (0.15.2)\n",
      "Requirement already satisfied: safetensors>=0.4.1 in /usr/local/lib/python3.10/dist-packages (from transformers<5.0.0,>=4.32.0->sentence-transformers) (0.4.2)\n",
      "Requirement already satisfied: threadpoolctl>=2.0.0 in /usr/local/lib/python3.10/dist-packages (from scikit-learn->sentence-transformers) (3.3.0)\n",
      "Requirement already satisfied: joblib>=1.2.0 in /usr/local/lib/python3.10/dist-packages (from scikit-learn->sentence-transformers) (1.3.2)\n",
      "Requirement already satisfied: MarkupSafe>=2.0 in /usr/local/lib/python3.10/dist-packages (from jinja2->torch>=1.11.0->sentence-transformers) (2.1.3)\n",
      "Requirement already satisfied: certifi>=2017.4.17 in /usr/local/lib/python3.10/dist-packages (from requests->huggingface-hub>=0.15.1->sentence-transformers) (2023.7.22)\n",
      "Requirement already satisfied: charset-normalizer<4,>=2 in /usr/local/lib/python3.10/dist-packages (from requests->huggingface-hub>=0.15.1->sentence-transformers) (3.3.1)\n",
      "Requirement already satisfied: urllib3<3,>=1.21.1 in /usr/local/lib/python3.10/dist-packages (from requests->huggingface-hub>=0.15.1->sentence-transformers) (2.0.7)\n",
      "Requirement already satisfied: idna<4,>=2.5 in /usr/local/lib/python3.10/dist-packages (from requests->huggingface-hub>=0.15.1->sentence-transformers) (3.4)\n",
      "Requirement already satisfied: mpmath>=0.19 in /usr/local/lib/python3.10/dist-packages (from sympy->torch>=1.11.0->sentence-transformers) (1.3.0)\n",
      "\u001b[33mWARNING: Running pip as the 'root' user can result in broken permissions and conflicting behaviour with the system package manager. It is recommended to use a virtual environment instead: https://pip.pypa.io/warnings/venv\u001b[0m\u001b[33m\n",
      "\u001b[0mCollecting rank_bm25\n",
      "  Using cached rank_bm25-0.2.2-py3-none-any.whl (8.6 kB)\n",
      "Requirement already satisfied: numpy in /usr/local/lib/python3.10/dist-packages (from rank_bm25) (1.26.4)\n",
      "Installing collected packages: rank_bm25\n",
      "Successfully installed rank_bm25-0.2.2\n",
      "\u001b[33mWARNING: Running pip as the 'root' user can result in broken permissions and conflicting behaviour with the system package manager. It is recommended to use a virtual environment instead: https://pip.pypa.io/warnings/venv\u001b[0m\u001b[33m\n",
      "\u001b[0m"
     ]
    }
   ],
   "source": [
    "!pip install sentence-transformers\n",
    "!pip install rank_bm25"
   ]
  },
  {
   "cell_type": "markdown",
   "id": "30efd0c6-11d1-4266-a2fa-554760b25beb",
   "metadata": {},
   "source": [
    "## Setup"
   ]
  },
  {
   "cell_type": "code",
   "execution_count": 51,
   "id": "0a038d13-a0ca-4140-94bd-c68606cce11c",
   "metadata": {},
   "outputs": [],
   "source": [
    "import pandas as pd\n",
    "import numpy as np\n",
    "from collections import defaultdict\n",
    "from sentence_transformers import SentenceTransformer\n",
    "from sklearn.metrics.pairwise import cosine_similarity\n",
    "from rank_bm25 import BM25Okapi\n",
    "import os"
   ]
  },
  {
   "cell_type": "code",
   "execution_count": 15,
   "id": "67fac96f-94a5-43ca-9920-249454a86d91",
   "metadata": {},
   "outputs": [],
   "source": [
    "corpus = pd.read_json(\"data/corpus.jsonl\", lines=True)\n",
    "\n",
    "baseline_queries_train = pd.read_json(\"data/baseline-queries/queries_train.jsonl\", orient=\"records\", lines=True)\n",
    "baseline_queries_dev = pd.read_json(\"data/baseline-queries/queries_dev.jsonl\", orient=\"records\", lines=True)"
   ]
  },
  {
   "cell_type": "markdown",
   "id": "f08440ae-3870-434e-90c9-a8064d456551",
   "metadata": {},
   "source": [
    "## SBERT Baseline\n",
    "Encode the plain text of the arguments and queries using a multi-lingual sbert model"
   ]
  },
  {
   "cell_type": "code",
   "execution_count": 18,
   "id": "2c65e3d7-540f-4a3b-aa0e-262586819285",
   "metadata": {},
   "outputs": [],
   "source": [
    "sbert_encoder = SentenceTransformer(\"paraphrase-multilingual-mpnet-base-v2\")"
   ]
  },
  {
   "cell_type": "code",
   "execution_count": 27,
   "id": "e7ec3165-4dc7-4906-bf18-d3671e4e0371",
   "metadata": {},
   "outputs": [],
   "source": [
    "corpus_embeddings = sbert_encoder.encode(corpus[\"argument\"].values)\n",
    "corpus[\"sbert_embeddings\"] = list(corpus_embeddings)"
   ]
  },
  {
   "cell_type": "code",
   "execution_count": 28,
   "id": "765eaacf-8db8-4b4b-be04-d210bea5882b",
   "metadata": {},
   "outputs": [],
   "source": [
    "query_train_embeddings = sbert_encoder.encode(baseline_queries_train[\"text\"].values) \n",
    "query_dev_embeddings = sbert_encoder.encode(baseline_queries_dev[\"text\"].values) \n",
    "\n",
    "baseline_queries_train[\"sbert_embeddings\"] = list(query_train_embeddings)\n",
    "baseline_queries_dev[\"sbert_embeddings\"] = list(query_dev_embeddings)"
   ]
  },
  {
   "cell_type": "code",
   "execution_count": 29,
   "id": "898c1c2d-47dc-4cf4-880c-e0ec7da48057",
   "metadata": {},
   "outputs": [],
   "source": [
    "train_similarities = cosine_similarity(\n",
    "    list(baseline_queries_train[\"sbert_embeddings\"].values), list(corpus[\"sbert_embeddings\"].values)\n",
    ")\n",
    "dev_similarities = cosine_similarity(\n",
    "    list(baseline_queries_dev[\"sbert_embeddings\"].values), list(corpus[\"sbert_embeddings\"].values)\n",
    ")"
   ]
  },
  {
   "cell_type": "code",
   "execution_count": 57,
   "id": "277daf6b-1b6f-48bd-979a-badbacf344e9",
   "metadata": {},
   "outputs": [],
   "source": [
    "train_predictions = [\n",
    "    {\n",
    "        \"query_id\": baseline_queries_train.iloc[i][\"query_id\"],\n",
    "        \"relevant_candidates\": [\n",
    "            corpus.iloc[candidate_index][\"argument_id\"]\n",
    "            for candidate_index in candidates.argsort()[::-1][:1000]\n",
    "        ]\n",
    "    }\n",
    "    for i, candidates in enumerate(train_similarities)\n",
    "]\n",
    "\n",
    "dev_predictions = [\n",
    "    {\n",
    "        \"query_id\": baseline_queries_train.iloc[i][\"query_id\"],\n",
    "        \"relevant_candidates\": [\n",
    "            corpus.iloc[candidate_index][\"argument_id\"]\n",
    "            for candidate_index in candidates.argsort()[::-1][:1000]\n",
    "        ]\n",
    "    }\n",
    "    for i, candidates in enumerate(dev_similarities)\n",
    "]\n",
    "\n",
    "pd.DataFrame(train_predictions).to_json(\"sbert_train_predictions.jsonl\", orient=\"records\", lines=True)\n",
    "pd.DataFrame(dev_predictions).to_json(\"sbert_dev_predictions.jsonl\", orient=\"records\", lines=True)"
   ]
  },
  {
   "cell_type": "markdown",
   "id": "0a46cf5a-92f7-4a3b-b74c-a9a12e8f5073",
   "metadata": {},
   "source": [
    "## BM25"
   ]
  },
  {
   "cell_type": "code",
   "execution_count": 83,
   "id": "4bc62624-b386-44d5-9e3d-d9f51f513895",
   "metadata": {},
   "outputs": [],
   "source": [
    "corpus[\"bm25_tokens\"] = corpus[\"argument\"].str.split()\n",
    "bm25_corpus = BM25Okapi(corpus[\"bm25_tokens\"].values)"
   ]
  },
  {
   "cell_type": "code",
   "execution_count": 86,
   "id": "03a266c6-e757-4366-ab9f-8879b9f71de2",
   "metadata": {},
   "outputs": [],
   "source": [
    "train_similarities = numpy.array([bm25_corpus.get_scores(query.split()) for query in baseline_queries_train[\"text\"]])\n",
    "dev_similarities = numpy.array([bm25_corpus.get_scores(query.split()) for query in baseline_queries_dev[\"text\"]])"
   ]
  },
  {
   "cell_type": "code",
   "execution_count": 87,
   "id": "cff1952e-0424-42cb-820f-e727278e2f7b",
   "metadata": {},
   "outputs": [],
   "source": [
    "train_predictions = [\n",
    "    {\n",
    "        \"query_id\": baseline_queries_train.iloc[i][\"query_id\"],\n",
    "        \"relevant_candidates\": [\n",
    "            corpus.iloc[candidate_index][\"argument_id\"]\n",
    "            for candidate_index in candidates.argsort()[::-1][:1000]\n",
    "        ]\n",
    "    }\n",
    "    for i, candidates in enumerate(train_similarities)\n",
    "]\n",
    "\n",
    "dev_predictions = [\n",
    "    {\n",
    "        \"query_id\": baseline_queries_train.iloc[i][\"query_id\"],\n",
    "        \"relevant_candidates\": [\n",
    "            corpus.iloc[candidate_index][\"argument_id\"]\n",
    "            for candidate_index in candidates.argsort()[::-1][:1000]\n",
    "        ]\n",
    "    }\n",
    "    for i, candidates in enumerate(dev_similarities)\n",
    "]\n",
    "\n",
    "pd.DataFrame(train_predictions).to_json(\"bm25_train_predictions.jsonl\", orient=\"records\", lines=True)\n",
    "pd.DataFrame(dev_predictions).to_json(\"bm25_dev_predictions.jsonl\", orient=\"records\", lines=True)"
   ]
  },
  {
   "cell_type": "markdown",
   "id": "2ea9e155-c253-44d6-8954-7d5a397728eb",
   "metadata": {},
   "source": [
    "## Evaluation\n",
    "Evaluate train and dev baseline predictions for sbert and bm25."
   ]
  },
  {
   "cell_type": "code",
   "execution_count": 89,
   "id": "45aa4e3b-0747-4856-a117-200133bca7a5",
   "metadata": {},
   "outputs": [
    {
     "name": "stderr",
     "output_type": "stream",
     "text": [
      "100%|██████████| 105/105 [00:00<00:00, 3429.52it/s]\n"
     ]
    },
    {
     "name": "stdout",
     "output_type": "stream",
     "text": [
      "+----+-----+----------+---------------+\n",
      "|    |   k |   ndcg@k |   precision@k |\n",
      "|----+-----+----------+---------------|\n",
      "|  0 |   4 | 0.957958 |      0.957143 |\n",
      "|  1 |   8 | 0.953721 |      0.95119  |\n",
      "|  2 |  16 | 0.93929  |      0.930952 |\n",
      "|  3 |  20 | 0.932585 |      0.922381 |\n",
      "+----+-----+----------+---------------+\n"
     ]
    },
    {
     "name": "stderr",
     "output_type": "stream",
     "text": [
      "100%|██████████| 105/105 [00:05<00:00, 19.29it/s]\n"
     ]
    },
    {
     "name": "stdout",
     "output_type": "stream",
     "text": [
      "+----+-----+----------------+-------------------+\n",
      "|    |   k |   alpha_ndcg@k |   kl_divergence@k |\n",
      "|----+-----+----------------+-------------------|\n",
      "|  0 |   4 |       0.875765 |         0.157709  |\n",
      "|  1 |   8 |       0.879157 |         0.141179  |\n",
      "|  2 |  16 |       0.884422 |         0.108081  |\n",
      "|  3 |  20 |       0.886017 |         0.0990265 |\n",
      "+----+-----+----------------+-------------------+\n"
     ]
    },
    {
     "name": "stderr",
     "output_type": "stream",
     "text": [
      "100%|██████████| 30/30 [00:00<00:00, 3537.31it/s]\n"
     ]
    },
    {
     "name": "stdout",
     "output_type": "stream",
     "text": [
      "+----+-----+----------+---------------+\n",
      "|    |   k |   ndcg@k |   precision@k |\n",
      "|----+-----+----------+---------------|\n",
      "|  0 |   4 | 0.96837  |      0.975    |\n",
      "|  1 |   8 | 0.96466  |      0.966667 |\n",
      "|  2 |  16 | 0.95687  |      0.954167 |\n",
      "|  3 |  20 | 0.953713 |      0.95     |\n",
      "+----+-----+----------+---------------+\n"
     ]
    },
    {
     "name": "stderr",
     "output_type": "stream",
     "text": [
      "100%|██████████| 30/30 [00:01<00:00, 19.45it/s]\n"
     ]
    },
    {
     "name": "stdout",
     "output_type": "stream",
     "text": [
      "+----+-----+----------------+-------------------+\n",
      "|    |   k |   alpha_ndcg@k |   kl_divergence@k |\n",
      "|----+-----+----------------+-------------------|\n",
      "|  0 |   4 |       0.877648 |         0.150732  |\n",
      "|  1 |   8 |       0.880229 |         0.136596  |\n",
      "|  2 |  16 |       0.891939 |         0.107244  |\n",
      "|  3 |  20 |       0.896645 |         0.0996513 |\n",
      "+----+-----+----------------+-------------------+\n"
     ]
    },
    {
     "name": "stderr",
     "output_type": "stream",
     "text": [
      "100%|██████████| 105/105 [00:00<00:00, 3619.14it/s]\n"
     ]
    },
    {
     "name": "stdout",
     "output_type": "stream",
     "text": [
      "+----+-----+----------+---------------+\n",
      "|    |   k |   ndcg@k |   precision@k |\n",
      "|----+-----+----------+---------------|\n",
      "|  0 |   4 | 0.746408 |      0.728571 |\n",
      "|  1 |   8 | 0.69606  |      0.665476 |\n",
      "|  2 |  16 | 0.632391 |      0.589881 |\n",
      "|  3 |  20 | 0.610755 |      0.565714 |\n",
      "+----+-----+----------+---------------+\n"
     ]
    },
    {
     "name": "stderr",
     "output_type": "stream",
     "text": [
      "100%|██████████| 105/105 [00:06<00:00, 15.41it/s]\n"
     ]
    },
    {
     "name": "stdout",
     "output_type": "stream",
     "text": [
      "+----+-----+----------------+-------------------+\n",
      "|    |   k |   alpha_ndcg@k |   kl_divergence@k |\n",
      "|----+-----+----------------+-------------------|\n",
      "|  0 |   4 |       0.688805 |         0.1527    |\n",
      "|  1 |   8 |       0.6558   |         0.136317  |\n",
      "|  2 |  16 |       0.615283 |         0.102595  |\n",
      "|  3 |  20 |       0.600987 |         0.0935152 |\n",
      "+----+-----+----------------+-------------------+\n"
     ]
    },
    {
     "name": "stderr",
     "output_type": "stream",
     "text": [
      "100%|██████████| 30/30 [00:00<00:00, 3685.46it/s]\n"
     ]
    },
    {
     "name": "stdout",
     "output_type": "stream",
     "text": [
      "+----+-----+----------+---------------+\n",
      "|    |   k |   ndcg@k |   precision@k |\n",
      "|----+-----+----------+---------------|\n",
      "|  0 |   4 | 0.674276 |      0.633333 |\n",
      "|  1 |   8 | 0.640405 |      0.604167 |\n",
      "|  2 |  16 | 0.591176 |      0.552083 |\n",
      "|  3 |  20 | 0.569195 |      0.526667 |\n",
      "+----+-----+----------+---------------+\n"
     ]
    },
    {
     "name": "stderr",
     "output_type": "stream",
     "text": [
      "100%|██████████| 30/30 [00:01<00:00, 19.77it/s]\n"
     ]
    },
    {
     "name": "stdout",
     "output_type": "stream",
     "text": [
      "+----+-----+----------------+-------------------+\n",
      "|    |   k |   alpha_ndcg@k |   kl_divergence@k |\n",
      "|----+-----+----------------+-------------------|\n",
      "|  0 |   4 |       0.637264 |         0.144039  |\n",
      "|  1 |   8 |       0.610142 |         0.12915   |\n",
      "|  2 |  16 |       0.577216 |         0.100056  |\n",
      "|  3 |  20 |       0.561662 |         0.0924095 |\n",
      "+----+-----+----------------+-------------------+\n"
     ]
    }
   ],
   "source": [
    "for baseline_method in [\"sbert\", \"bm25\"]:\n",
    "    for split in [\"train\", \"dev\"]:\n",
    "        os.system(f\"python3 scripts/evaluation.py --data ./data --scenario baseline --split {split} --predictions  {baseline_method}_{split}_predictions.jsonl --output_dir results/{baseline_method} --diversity True\")"
   ]
  }
 ],
 "metadata": {
  "kernelspec": {
   "display_name": "Python 3 (ipykernel)",
   "language": "python",
   "name": "python3"
  },
  "language_info": {
   "codemirror_mode": {
    "name": "ipython",
    "version": 3
   },
   "file_extension": ".py",
   "mimetype": "text/x-python",
   "name": "python",
   "nbconvert_exporter": "python",
   "pygments_lexer": "ipython3",
   "version": "3.10.12"
  }
 },
 "nbformat": 4,
 "nbformat_minor": 5
}
